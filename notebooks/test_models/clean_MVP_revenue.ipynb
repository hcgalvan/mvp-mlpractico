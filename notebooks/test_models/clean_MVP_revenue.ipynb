{
 "cells": [
  {
   "cell_type": "markdown",
   "metadata": {},
   "source": [
    "# input"
   ]
  },
  {
   "cell_type": "markdown",
   "metadata": {},
   "source": [
    "---"
   ]
  },
  {
   "cell_type": "code",
   "execution_count": 116,
   "metadata": {},
   "outputs": [],
   "source": [
    "# Google Colab"
   ]
  },
  {
   "cell_type": "code",
   "execution_count": 117,
   "metadata": {},
   "outputs": [],
   "source": [
    "# from google.colab import files\n",
    "# import io"
   ]
  },
  {
   "cell_type": "code",
   "execution_count": 118,
   "metadata": {},
   "outputs": [],
   "source": [
    "# uploaded = files.upload()\n",
    "# df = pd.read_csv(io.BytesIO(uploaded['movies_metadata.csv']))"
   ]
  },
  {
   "cell_type": "markdown",
   "metadata": {},
   "source": [
    "---"
   ]
  },
  {
   "cell_type": "code",
   "execution_count": 119,
   "metadata": {},
   "outputs": [],
   "source": [
    "# Local"
   ]
  },
  {
   "cell_type": "code",
   "execution_count": 120,
   "metadata": {},
   "outputs": [],
   "source": [
    "import pandas as pd\n",
    "import numpy as np\n",
    "from scipy import stats\n",
    "from statistics import median"
   ]
  },
  {
   "cell_type": "code",
   "execution_count": 121,
   "metadata": {},
   "outputs": [],
   "source": [
    "df = pd.read_csv('./movielens/movies_metadata.csv', low_memory=False)"
   ]
  },
  {
   "cell_type": "markdown",
   "metadata": {},
   "source": [
    "# Limpieza"
   ]
  },
  {
   "cell_type": "code",
   "execution_count": 122,
   "metadata": {},
   "outputs": [],
   "source": [
    "# Columnas seleccionadas\n",
    "df = df[['imdb_id', 'title', 'budget', 'revenue', 'genres', 'original_language', 'overview',\n",
    "         'release_date', 'runtime', 'popularity', 'production_companies',\n",
    "         'production_countries', 'belongs_to_collection',  'vote_average', 'vote_count']]"
   ]
  },
  {
   "cell_type": "code",
   "execution_count": null,
   "metadata": {},
   "outputs": [],
   "source": []
  },
  {
   "cell_type": "code",
   "execution_count": 123,
   "metadata": {},
   "outputs": [],
   "source": [
    "## REVEER LIMITE INFERIOR!\n",
    "min_revenue = 1000\n",
    "df = df[df.revenue >= min_revenue]"
   ]
  },
  {
   "cell_type": "code",
   "execution_count": 124,
   "metadata": {},
   "outputs": [],
   "source": [
    "## REVEER LIMITE INFERIOR!\n",
    "min_budget = 1000\n",
    "# budget lo lee como object ---> \n",
    "df['budget'] = df['budget'].apply(lambda x: float(x) if x.isnumeric() else 0.)\n",
    "df = df[df.budget >= min_budget]"
   ]
  },
  {
   "cell_type": "code",
   "execution_count": 125,
   "metadata": {},
   "outputs": [],
   "source": [
    "df['original_language'] = df.original_language.apply(\n",
    "    lambda x: x if isinstance(x, str) and x.isalpha() else '')"
   ]
  },
  {
   "cell_type": "code",
   "execution_count": 126,
   "metadata": {},
   "outputs": [],
   "source": [
    "#Parse date\n",
    "df['release_date'] = pd.to_datetime(df['release_date'], errors='coerce')\n",
    "df['release_date_year'] = df['release_date'].dt.year"
   ]
  },
  {
   "cell_type": "code",
   "execution_count": 127,
   "metadata": {},
   "outputs": [],
   "source": [
    "#Me quedo con las peliculas del 1985 en adelante\n",
    "#df = df[df.release_date_year > 1985]"
   ]
  },
  {
   "cell_type": "code",
   "execution_count": 128,
   "metadata": {},
   "outputs": [],
   "source": [
    "#Bool si es de una coleccion\n",
    "df['belongs_to_collection'] = df['belongs_to_collection'].apply(lambda x:True if isinstance(x, str) else False)"
   ]
  },
  {
   "cell_type": "code",
   "execution_count": 130,
   "metadata": {},
   "outputs": [],
   "source": [
    "# Lista de generos\n",
    "df['genres'] = df.genres.apply(lambda x: [i['name']  for i in eval(x)])"
   ]
  },
  {
   "cell_type": "code",
   "execution_count": 131,
   "metadata": {},
   "outputs": [],
   "source": [
    "# Lista de production countries\n",
    "df['production_countries'] = df.production_countries.apply(lambda x: [i['name']  for i in eval(x)])"
   ]
  },
  {
   "cell_type": "code",
   "execution_count": 132,
   "metadata": {},
   "outputs": [],
   "source": [
    "# Lista de production companies\n",
    "df['production_companies'] = df.production_companies.apply(lambda x: [i['name']  for i in eval(x)])"
   ]
  },
  {
   "cell_type": "code",
   "execution_count": 133,
   "metadata": {},
   "outputs": [],
   "source": [
    "# Reveer runtime margins\n",
    "upper_lim = np.mean(df.runtime) + np.std(df.runtime)*2\n",
    "lower_lim = np.mean(df.runtime) - np.std(df.runtime)*2\n",
    "df = df[(df.runtime > lower_lim) & (df.runtime < upper_lim)]"
   ]
  },
  {
   "cell_type": "code",
   "execution_count": 134,
   "metadata": {},
   "outputs": [
    {
     "data": {
      "text/plain": [
       "(153.92775063859037, 65.94760240226822)"
      ]
     },
     "execution_count": 134,
     "metadata": {},
     "output_type": "execute_result"
    }
   ],
   "source": [
    "upper_lim, lower_lim"
   ]
  },
  {
   "cell_type": "code",
   "execution_count": 135,
   "metadata": {},
   "outputs": [],
   "source": [
    "# Drop na?\n",
    "df.dropna(subset=['overview', 'runtime', 'release_date'], inplace=True)"
   ]
  },
  {
   "cell_type": "markdown",
   "metadata": {
    "id": "pluCDncYYm_S"
   },
   "source": [
    "Quito outliers usando la median absolute deviation porque no tiene una distribución de cola pesada.\n",
    "Hago la mediana +- 2.5 MAD"
   ]
  },
  {
   "cell_type": "code",
   "execution_count": 136,
   "metadata": {},
   "outputs": [],
   "source": [
    "mad = stats.median_abs_deviation(df.revenue)\n",
    "med = median(df.revenue)\n",
    "\n",
    "upp_lim = med + 2.5*mad\n",
    "low_lim = med - 2.5*mad\n",
    "\n",
    "df = df[(df.revenue > low_lim) & (df.revenue < upp_lim)]"
   ]
  },
  {
   "cell_type": "markdown",
   "metadata": {
    "id": "e5KrKKqHf_5W"
   },
   "source": [
    "Creo dos columnas. Una divido al revenue en 4 cuartiles y la otra es dividir al revenue en 10 deciles"
   ]
  },
  {
   "cell_type": "code",
   "execution_count": 137,
   "metadata": {
    "id": "GQ-IMW9Pfren"
   },
   "outputs": [],
   "source": [
    "labels_4 = ['Bajo', 'Moderado', 'Alto', 'Muy Alto']\n",
    "labels_10 = ['Bajisimo','Muy Bajo','Bajo','Moderado Bajo','Moderado Medio','Moderado Alto','Alto Bajo','Alto Medio','Muy Alto','Altisimo']\n",
    "\n",
    "df['quantile_4'] = pd.qcut(df['revenue'], q=4, precision = 0, labels = labels_4)\n",
    "df['quantile_10'] = pd.qcut(df['revenue'], q=10, precision=0, labels = labels_10)\n"
   ]
  },
  {
   "cell_type": "code",
   "execution_count": 138,
   "metadata": {
    "id": "urNxidSAhUT5"
   },
   "outputs": [],
   "source": [
    "#CREO TABLAS PARA SABER QUE THRESHOLD CORRESPONDE A CADA TIER\n",
    "results4, bin_edges4 = pd.qcut(df['revenue'],\n",
    "                            q=4,\n",
    "                            labels=labels_4,\n",
    "                            retbins=True)\n",
    "\n",
    "results_table_4 = pd.DataFrame(zip(bin_edges4, labels_4),\n",
    "                            columns=['Threshold', 'Tier'])\n",
    "\n",
    "\n",
    "results10, bin_edges10 = pd.qcut(df['revenue'],\n",
    "                            q=10,\n",
    "                            labels=labels_10,\n",
    "                            retbins=True)\n",
    "\n",
    "results_table_10 = pd.DataFrame(zip(bin_edges10, labels_10),\n",
    "                            columns=['Threshold', 'Tier'])"
   ]
  },
  {
   "cell_type": "markdown",
   "metadata": {
    "id": "CmyePCUtWWu8"
   },
   "source": [
    "Creo otras dos columnas que armen 4 y 10 rangos del mismo tamaño en terminos de revenue en cada uno"
   ]
  },
  {
   "cell_type": "code",
   "execution_count": 139,
   "metadata": {
    "id": "e5SVpacoVzDf"
   },
   "outputs": [],
   "source": [
    "df['4cuts'] = pd.cut(df['revenue'], bins = 4, labels = labels_4)\n",
    "df['10cuts'] = pd.cut(df['revenue'], bins = 10, labels = labels_10)"
   ]
  },
  {
   "cell_type": "markdown",
   "metadata": {},
   "source": [
    "## Dummies"
   ]
  },
  {
   "cell_type": "code",
   "execution_count": 140,
   "metadata": {},
   "outputs": [],
   "source": [
    "from sklearn.preprocessing import MultiLabelBinarizer"
   ]
  },
  {
   "cell_type": "code",
   "execution_count": 141,
   "metadata": {},
   "outputs": [],
   "source": [
    "mlb = MultiLabelBinarizer()"
   ]
  },
  {
   "cell_type": "code",
   "execution_count": 142,
   "metadata": {},
   "outputs": [],
   "source": [
    "genres_one_h = mlb.fit_transform(df.genres)"
   ]
  },
  {
   "cell_type": "code",
   "execution_count": 143,
   "metadata": {},
   "outputs": [],
   "source": [
    "df.reset_index(inplace=True)"
   ]
  },
  {
   "cell_type": "code",
   "execution_count": 144,
   "metadata": {},
   "outputs": [
    {
     "data": {
      "text/plain": [
       "(5028, 20)"
      ]
     },
     "execution_count": 144,
     "metadata": {},
     "output_type": "execute_result"
    }
   ],
   "source": [
    "genres_oneh.shape"
   ]
  },
  {
   "cell_type": "code",
   "execution_count": 145,
   "metadata": {},
   "outputs": [
    {
     "data": {
      "text/plain": [
       "array(['Action', 'Adventure', 'Animation', 'Comedy', 'Crime',\n",
       "       'Documentary', 'Drama', 'Family', 'Fantasy', 'Foreign', 'History',\n",
       "       'Horror', 'Music', 'Mystery', 'Romance', 'Science Fiction',\n",
       "       'TV Movie', 'Thriller', 'War', 'Western'], dtype=object)"
      ]
     },
     "execution_count": 145,
     "metadata": {},
     "output_type": "execute_result"
    }
   ],
   "source": [
    "mlb.classes_"
   ]
  },
  {
   "cell_type": "code",
   "execution_count": 146,
   "metadata": {},
   "outputs": [],
   "source": [
    "df = pd.concat([df, pd.DataFrame(columns=mlb.classes_, data=genres_one_h)], axis=1)"
   ]
  },
  {
   "cell_type": "code",
   "execution_count": null,
   "metadata": {},
   "outputs": [],
   "source": []
  },
  {
   "cell_type": "code",
   "execution_count": null,
   "metadata": {},
   "outputs": [],
   "source": []
  },
  {
   "cell_type": "code",
   "execution_count": null,
   "metadata": {},
   "outputs": [],
   "source": []
  },
  {
   "cell_type": "code",
   "execution_count": null,
   "metadata": {},
   "outputs": [],
   "source": []
  }
 ],
 "metadata": {
  "kernelspec": {
   "display_name": "Python 3",
   "language": "python",
   "name": "python3"
  },
  "language_info": {
   "codemirror_mode": {
    "name": "ipython",
    "version": 3
   },
   "file_extension": ".py",
   "mimetype": "text/x-python",
   "name": "python",
   "nbconvert_exporter": "python",
   "pygments_lexer": "ipython3",
   "version": "3.7.9"
  },
  "toc": {
   "base_numbering": 1,
   "nav_menu": {},
   "number_sections": true,
   "sideBar": true,
   "skip_h1_title": false,
   "title_cell": "Table of Contents",
   "title_sidebar": "Contents",
   "toc_cell": false,
   "toc_position": {},
   "toc_section_display": true,
   "toc_window_display": false
  }
 },
 "nbformat": 4,
 "nbformat_minor": 4
}
