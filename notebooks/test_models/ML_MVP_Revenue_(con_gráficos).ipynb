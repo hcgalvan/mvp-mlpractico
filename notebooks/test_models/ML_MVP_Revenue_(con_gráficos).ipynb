{
  "nbformat": 4,
  "nbformat_minor": 0,
  "metadata": {
    "colab": {
      "name": "ML: MVP-Revenue (con gráficos).ipynb",
      "provenance": [],
      "collapsed_sections": [],
      "toc_visible": true
    },
    "kernelspec": {
      "name": "python3",
      "display_name": "Python 3"
    }
  },
  "cells": [
    {
      "cell_type": "code",
      "metadata": {
        "colab": {
          "resources": {
            "http://localhost:8080/nbextensions/google.colab/files.js": {
              "data": "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",
              "ok": true,
              "headers": [
                [
                  "content-type",
                  "application/javascript"
                ]
              ],
              "status": 200,
              "status_text": ""
            }
          },
          "base_uri": "https://localhost:8080/",
          "height": 74
        },
        "id": "EZpgfrHuJdpW",
        "outputId": "ff864503-6592-4c9f-c993-d27a5f4d1357"
      },
      "source": [
        "from google.colab import files\r\n",
        "uploaded = files.upload()"
      ],
      "execution_count": 2,
      "outputs": [
        {
          "output_type": "display_data",
          "data": {
            "text/html": [
              "\n",
              "     <input type=\"file\" id=\"files-04b4de52-f91d-4268-bd4f-de645023c762\" name=\"files[]\" multiple disabled\n",
              "        style=\"border:none\" />\n",
              "     <output id=\"result-04b4de52-f91d-4268-bd4f-de645023c762\">\n",
              "      Upload widget is only available when the cell has been executed in the\n",
              "      current browser session. Please rerun this cell to enable.\n",
              "      </output>\n",
              "      <script src=\"/nbextensions/google.colab/files.js\"></script> "
            ],
            "text/plain": [
              "<IPython.core.display.HTML object>"
            ]
          },
          "metadata": {
            "tags": []
          }
        },
        {
          "output_type": "stream",
          "text": [
            "Saving movies_metadata.csv to movies_metadata.csv\n"
          ],
          "name": "stdout"
        }
      ]
    },
    {
      "cell_type": "code",
      "metadata": {
        "colab": {
          "base_uri": "https://localhost:8080/"
        },
        "id": "WZQ_l5YpJwjV",
        "outputId": "740c8436-26ef-41a2-ae74-6ed6f030874e"
      },
      "source": [
        "import io\r\n",
        "import pandas as pd\r\n",
        "import matplotlib.pyplot as plt\r\n",
        "import numpy as np\r\n",
        "df = pd.read_csv(io.BytesIO(uploaded['movies_metadata.csv']))\r\n",
        "# Dataset is now stored in a Pandas Dataframe"
      ],
      "execution_count": 490,
      "outputs": [
        {
          "output_type": "stream",
          "text": [
            "/usr/local/lib/python3.6/dist-packages/IPython/core/interactiveshell.py:2718: DtypeWarning: Columns (10) have mixed types.Specify dtype option on import or set low_memory=False.\n",
            "  interactivity=interactivity, compiler=compiler, result=result)\n"
          ],
          "name": "stderr"
        }
      ]
    },
    {
      "cell_type": "markdown",
      "metadata": {
        "id": "2iCm6RZ0RGcc"
      },
      "source": [
        "## Data Cleaning"
      ]
    },
    {
      "cell_type": "code",
      "metadata": {
        "colab": {
          "base_uri": "https://localhost:8080/"
        },
        "id": "afeeMa6kKbEW",
        "outputId": "42d6b0d3-e29b-45bd-ac43-330b3aee8fdf"
      },
      "source": [
        "df.shape"
      ],
      "execution_count": 491,
      "outputs": [
        {
          "output_type": "execute_result",
          "data": {
            "text/plain": [
              "(45466, 24)"
            ]
          },
          "metadata": {
            "tags": []
          },
          "execution_count": 491
        }
      ]
    },
    {
      "cell_type": "markdown",
      "metadata": {
        "id": "AxEu2vxOMD2x"
      },
      "source": [
        "Me quedo solo con revenues positivos (pierdo 38k registros de 45k)"
      ]
    },
    {
      "cell_type": "code",
      "metadata": {
        "id": "VKHqFAPpMFmt"
      },
      "source": [
        "df = df[df.revenue > 0]"
      ],
      "execution_count": 492,
      "outputs": []
    },
    {
      "cell_type": "code",
      "metadata": {
        "colab": {
          "base_uri": "https://localhost:8080/"
        },
        "id": "6WyCVAMkNicU",
        "outputId": "a9b7b441-7227-42f2-cdec-0871b3b6098b"
      },
      "source": [
        "(df.status != 'Released').sum(), (df.adult != 'False').sum(), (df.video == True).sum()"
      ],
      "execution_count": 493,
      "outputs": [
        {
          "output_type": "execute_result",
          "data": {
            "text/plain": [
              "(13, 0, 0)"
            ]
          },
          "metadata": {
            "tags": []
          },
          "execution_count": 493
        }
      ]
    },
    {
      "cell_type": "markdown",
      "metadata": {
        "id": "aCXbCVAlOI0-"
      },
      "source": [
        "Siendo que hay tan poca variabilidad en los valores de video, status y adult  columnas las quito. Tambien saco vote average, vote count, budget, popularity, title y overview"
      ]
    },
    {
      "cell_type": "code",
      "metadata": {
        "id": "JZIqpBJuOL2Z"
      },
      "source": [
        "df = df[['belongs_to_collection', 'genres',\r\n",
        "       'imdb_id', 'original_language', 'production_companies',\r\n",
        "       'production_countries', 'release_date', 'revenue', 'runtime']]"
      ],
      "execution_count": 494,
      "outputs": []
    },
    {
      "cell_type": "markdown",
      "metadata": {
        "id": "_rOAPKrqRwrt"
      },
      "source": [
        "####Feature: belongs_to_collection"
      ]
    },
    {
      "cell_type": "markdown",
      "metadata": {
        "id": "AQrBRh26Uvas"
      },
      "source": [
        "Hago a los nulls o na de la columna belongs_to_collection = 0\r\n"
      ]
    },
    {
      "cell_type": "code",
      "metadata": {
        "id": "UOyHyXXbT8Wc"
      },
      "source": [
        "df['belongs_to_collection'].fillna(0, inplace = True)"
      ],
      "execution_count": 495,
      "outputs": []
    },
    {
      "cell_type": "markdown",
      "metadata": {
        "id": "AstHdY9FVGHf"
      },
      "source": [
        "Hay 751 colecciones distintas... Voy a implementar una variable binaria. Pertences o no a una colección."
      ]
    },
    {
      "cell_type": "code",
      "metadata": {
        "id": "SDiPXr1DS4nu"
      },
      "source": [
        "import ast\r\n",
        "def collection_from_dict(x):\r\n",
        "  if x != 0:\r\n",
        "   #convert string to dictionary\r\n",
        "    res = ast.literal_eval(x) \r\n",
        "    #return just the name of the collection\r\n",
        "    return 1\r\n",
        "  return 0\r\n",
        "df['collection'] = df.belongs_to_collection.apply(lambda x: collection_from_dict(x))\r\n",
        "\r\n",
        "#Elimino la columna vieja\r\n",
        "df.drop(columns = 'belongs_to_collection', inplace = True)"
      ],
      "execution_count": 496,
      "outputs": []
    },
    {
      "cell_type": "code",
      "metadata": {
        "colab": {
          "base_uri": "https://localhost:8080/",
          "height": 136
        },
        "id": "T8P98O0zU3nb",
        "outputId": "992f6749-f18c-4056-d167-f3b3324fd2d9"
      },
      "source": [
        "pd.crosstab(index = df.collection, columns = 'count')"
      ],
      "execution_count": 497,
      "outputs": [
        {
          "output_type": "execute_result",
          "data": {
            "text/html": [
              "<div>\n",
              "<style scoped>\n",
              "    .dataframe tbody tr th:only-of-type {\n",
              "        vertical-align: middle;\n",
              "    }\n",
              "\n",
              "    .dataframe tbody tr th {\n",
              "        vertical-align: top;\n",
              "    }\n",
              "\n",
              "    .dataframe thead th {\n",
              "        text-align: right;\n",
              "    }\n",
              "</style>\n",
              "<table border=\"1\" class=\"dataframe\">\n",
              "  <thead>\n",
              "    <tr style=\"text-align: right;\">\n",
              "      <th>col_0</th>\n",
              "      <th>count</th>\n",
              "    </tr>\n",
              "    <tr>\n",
              "      <th>collection</th>\n",
              "      <th></th>\n",
              "    </tr>\n",
              "  </thead>\n",
              "  <tbody>\n",
              "    <tr>\n",
              "      <th>0</th>\n",
              "      <td>5925</td>\n",
              "    </tr>\n",
              "    <tr>\n",
              "      <th>1</th>\n",
              "      <td>1483</td>\n",
              "    </tr>\n",
              "  </tbody>\n",
              "</table>\n",
              "</div>"
            ],
            "text/plain": [
              "col_0       count\n",
              "collection       \n",
              "0            5925\n",
              "1            1483"
            ]
          },
          "metadata": {
            "tags": []
          },
          "execution_count": 497
        }
      ]
    },
    {
      "cell_type": "markdown",
      "metadata": {
        "id": "pANR3yJxSuov"
      },
      "source": [
        "####Feature: genres"
      ]
    },
    {
      "cell_type": "markdown",
      "metadata": {
        "id": "cYmCpzRqbaDS"
      },
      "source": [
        "Hago una lista de los generos para luego aplicarle un MultiLabelBinarizer\r\n"
      ]
    },
    {
      "cell_type": "code",
      "metadata": {
        "id": "rE4XhPJhaSCd"
      },
      "source": [
        "df['genres'] = df.genres.apply(lambda x: [i['name']  for i in eval(x)])"
      ],
      "execution_count": 498,
      "outputs": []
    },
    {
      "cell_type": "code",
      "metadata": {
        "id": "JXZTYC0XV11O"
      },
      "source": [
        "from sklearn.preprocessing import MultiLabelBinarizer\r\n",
        "genres = df['genres']\r\n",
        "mlb = MultiLabelBinarizer()\r\n",
        "genres_enc = pd.DataFrame(mlb.fit_transform(genres),columns=mlb.classes_, index=df.index)"
      ],
      "execution_count": 499,
      "outputs": []
    },
    {
      "cell_type": "code",
      "metadata": {
        "id": "DoWHiOprXyXx",
        "colab": {
          "base_uri": "https://localhost:8080/",
          "height": 402
        },
        "outputId": "57241e8f-b963-46e2-83be-fb22fa2bc9b4"
      },
      "source": [
        "generos = []\r\n",
        "counts = []\r\n",
        "\r\n",
        "for i in range(20):\r\n",
        "  generos.append(genres_enc.columns[i])\r\n",
        "  counts.append(genres_enc.iloc[:,i].sum())\r\n",
        "\r\n",
        "#Genero un pd Series\r\n",
        "gen_ser = pd.Series(counts, index = generos)\r\n",
        "gen_ser.sort_values(ascending = False, inplace = True)\r\n",
        "\r\n",
        "#Calculo el aporte de cada genero\r\n",
        "cum_sum = gen_ser.values.cumsum()\r\n",
        "total = gen_ser.values.sum()\r\n",
        "prop = cum_sum / total\r\n",
        "\r\n",
        "frame = pd.DataFrame({ 'Genre': gen_ser.index, 'Counts': gen_ser.values, 'Cumulative': cum_sum, 'Proportion Explained': prop })\r\n",
        "frame.head(12)"
      ],
      "execution_count": 500,
      "outputs": [
        {
          "output_type": "execute_result",
          "data": {
            "text/html": [
              "<div>\n",
              "<style scoped>\n",
              "    .dataframe tbody tr th:only-of-type {\n",
              "        vertical-align: middle;\n",
              "    }\n",
              "\n",
              "    .dataframe tbody tr th {\n",
              "        vertical-align: top;\n",
              "    }\n",
              "\n",
              "    .dataframe thead th {\n",
              "        text-align: right;\n",
              "    }\n",
              "</style>\n",
              "<table border=\"1\" class=\"dataframe\">\n",
              "  <thead>\n",
              "    <tr style=\"text-align: right;\">\n",
              "      <th></th>\n",
              "      <th>Genre</th>\n",
              "      <th>Counts</th>\n",
              "      <th>Cumulative</th>\n",
              "      <th>Proportion Explained</th>\n",
              "    </tr>\n",
              "  </thead>\n",
              "  <tbody>\n",
              "    <tr>\n",
              "      <th>0</th>\n",
              "      <td>Drama</td>\n",
              "      <td>3683</td>\n",
              "      <td>3683</td>\n",
              "      <td>0.199135</td>\n",
              "    </tr>\n",
              "    <tr>\n",
              "      <th>1</th>\n",
              "      <td>Comedy</td>\n",
              "      <td>2607</td>\n",
              "      <td>6290</td>\n",
              "      <td>0.340092</td>\n",
              "    </tr>\n",
              "    <tr>\n",
              "      <th>2</th>\n",
              "      <td>Thriller</td>\n",
              "      <td>1872</td>\n",
              "      <td>8162</td>\n",
              "      <td>0.441308</td>\n",
              "    </tr>\n",
              "    <tr>\n",
              "      <th>3</th>\n",
              "      <td>Action</td>\n",
              "      <td>1736</td>\n",
              "      <td>9898</td>\n",
              "      <td>0.535172</td>\n",
              "    </tr>\n",
              "    <tr>\n",
              "      <th>4</th>\n",
              "      <td>Romance</td>\n",
              "      <td>1437</td>\n",
              "      <td>11335</td>\n",
              "      <td>0.612868</td>\n",
              "    </tr>\n",
              "    <tr>\n",
              "      <th>5</th>\n",
              "      <td>Adventure</td>\n",
              "      <td>1120</td>\n",
              "      <td>12455</td>\n",
              "      <td>0.673425</td>\n",
              "    </tr>\n",
              "    <tr>\n",
              "      <th>6</th>\n",
              "      <td>Crime</td>\n",
              "      <td>1086</td>\n",
              "      <td>13541</td>\n",
              "      <td>0.732144</td>\n",
              "    </tr>\n",
              "    <tr>\n",
              "      <th>7</th>\n",
              "      <td>Science Fiction</td>\n",
              "      <td>747</td>\n",
              "      <td>14288</td>\n",
              "      <td>0.772533</td>\n",
              "    </tr>\n",
              "    <tr>\n",
              "      <th>8</th>\n",
              "      <td>Horror</td>\n",
              "      <td>735</td>\n",
              "      <td>15023</td>\n",
              "      <td>0.812274</td>\n",
              "    </tr>\n",
              "    <tr>\n",
              "      <th>9</th>\n",
              "      <td>Family</td>\n",
              "      <td>678</td>\n",
              "      <td>15701</td>\n",
              "      <td>0.848932</td>\n",
              "    </tr>\n",
              "    <tr>\n",
              "      <th>10</th>\n",
              "      <td>Fantasy</td>\n",
              "      <td>630</td>\n",
              "      <td>16331</td>\n",
              "      <td>0.882995</td>\n",
              "    </tr>\n",
              "    <tr>\n",
              "      <th>11</th>\n",
              "      <td>Mystery</td>\n",
              "      <td>550</td>\n",
              "      <td>16881</td>\n",
              "      <td>0.912733</td>\n",
              "    </tr>\n",
              "  </tbody>\n",
              "</table>\n",
              "</div>"
            ],
            "text/plain": [
              "              Genre  Counts  Cumulative  Proportion Explained\n",
              "0             Drama    3683        3683              0.199135\n",
              "1            Comedy    2607        6290              0.340092\n",
              "2          Thriller    1872        8162              0.441308\n",
              "3            Action    1736        9898              0.535172\n",
              "4           Romance    1437       11335              0.612868\n",
              "5         Adventure    1120       12455              0.673425\n",
              "6             Crime    1086       13541              0.732144\n",
              "7   Science Fiction     747       14288              0.772533\n",
              "8            Horror     735       15023              0.812274\n",
              "9            Family     678       15701              0.848932\n",
              "10          Fantasy     630       16331              0.882995\n",
              "11          Mystery     550       16881              0.912733"
            ]
          },
          "metadata": {
            "tags": []
          },
          "execution_count": 500
        }
      ]
    },
    {
      "cell_type": "markdown",
      "metadata": {
        "id": "KZpUmpT9cwsr"
      },
      "source": [
        "Dado que con los primeros 12 generos conservo ~90% de los datos. Corto ahi."
      ]
    },
    {
      "cell_type": "code",
      "metadata": {
        "id": "NjFPZFGsdA1w"
      },
      "source": [
        "genres_enc = genres_enc[['Action', 'Adventure', 'Comedy', 'Crime', \r\n",
        "                         'Drama', 'Family', 'Fantasy', 'Horror',\r\n",
        "                         'Mystery', 'Romance', 'Science Fiction', 'Thriller']]\r\n",
        "df = pd.concat([df, genres_enc], axis=1)\r\n",
        "\r\n",
        "#Elimino la columna vieja\r\n",
        "df.drop(columns = ['genres'], inplace = True)"
      ],
      "execution_count": 501,
      "outputs": []
    },
    {
      "cell_type": "markdown",
      "metadata": {
        "id": "KzdDGRkUSyyI"
      },
      "source": [
        "####Feature: production_countries"
      ]
    },
    {
      "cell_type": "markdown",
      "metadata": {
        "id": "yKyJKQ0PVlz-"
      },
      "source": [
        "Hago lo mismo que hice con genres con production_countries"
      ]
    },
    {
      "cell_type": "code",
      "metadata": {
        "id": "0x475gLDb7NA"
      },
      "source": [
        "df['production_countries'] = df.production_countries.apply(lambda x: [i['name']  for i in eval(x)])\r\n",
        "s = df['production_countries']\r\n",
        "prod_country = pd.DataFrame(mlb.fit_transform(s),columns=mlb.classes_, index=df.index)"
      ],
      "execution_count": 502,
      "outputs": []
    },
    {
      "cell_type": "code",
      "metadata": {
        "colab": {
          "base_uri": "https://localhost:8080/",
          "height": 402
        },
        "id": "vsLbl01Ie29P",
        "outputId": "a1ac636c-3386-485e-b52f-1c8a3685feaa"
      },
      "source": [
        "paises = []\r\n",
        "counts = []\r\n",
        "\r\n",
        "for i in range(98):\r\n",
        "  paises.append(prod_country.columns[i])\r\n",
        "  counts.append(prod_country.iloc[:,i].sum())\r\n",
        "\r\n",
        "#Genero un pd Series\r\n",
        "pais_ser = pd.Series(counts, index = paises)\r\n",
        "pais_ser.sort_values(ascending = False, inplace = True)\r\n",
        "\r\n",
        "#Calculo el aporte de cada pais\r\n",
        "cum_sum = pais_ser.values.cumsum()\r\n",
        "total = pais_ser.values.sum()\r\n",
        "prop = cum_sum / total\r\n",
        "\r\n",
        "frame = pd.DataFrame({ 'Pais': pais_ser.index, 'Counts': pais_ser.values, 'Cumulative': cum_sum, 'Proportion Explained': prop })\r\n",
        "frame.head(12)"
      ],
      "execution_count": 503,
      "outputs": [
        {
          "output_type": "execute_result",
          "data": {
            "text/html": [
              "<div>\n",
              "<style scoped>\n",
              "    .dataframe tbody tr th:only-of-type {\n",
              "        vertical-align: middle;\n",
              "    }\n",
              "\n",
              "    .dataframe tbody tr th {\n",
              "        vertical-align: top;\n",
              "    }\n",
              "\n",
              "    .dataframe thead th {\n",
              "        text-align: right;\n",
              "    }\n",
              "</style>\n",
              "<table border=\"1\" class=\"dataframe\">\n",
              "  <thead>\n",
              "    <tr style=\"text-align: right;\">\n",
              "      <th></th>\n",
              "      <th>Pais</th>\n",
              "      <th>Counts</th>\n",
              "      <th>Cumulative</th>\n",
              "      <th>Proportion Explained</th>\n",
              "    </tr>\n",
              "  </thead>\n",
              "  <tbody>\n",
              "    <tr>\n",
              "      <th>0</th>\n",
              "      <td>United States of America</td>\n",
              "      <td>5623</td>\n",
              "      <td>5623</td>\n",
              "      <td>0.568784</td>\n",
              "    </tr>\n",
              "    <tr>\n",
              "      <th>1</th>\n",
              "      <td>United Kingdom</td>\n",
              "      <td>917</td>\n",
              "      <td>6540</td>\n",
              "      <td>0.661542</td>\n",
              "    </tr>\n",
              "    <tr>\n",
              "      <th>2</th>\n",
              "      <td>France</td>\n",
              "      <td>576</td>\n",
              "      <td>7116</td>\n",
              "      <td>0.719806</td>\n",
              "    </tr>\n",
              "    <tr>\n",
              "      <th>3</th>\n",
              "      <td>Germany</td>\n",
              "      <td>412</td>\n",
              "      <td>7528</td>\n",
              "      <td>0.761481</td>\n",
              "    </tr>\n",
              "    <tr>\n",
              "      <th>4</th>\n",
              "      <td>Canada</td>\n",
              "      <td>323</td>\n",
              "      <td>7851</td>\n",
              "      <td>0.794153</td>\n",
              "    </tr>\n",
              "    <tr>\n",
              "      <th>5</th>\n",
              "      <td>India</td>\n",
              "      <td>220</td>\n",
              "      <td>8071</td>\n",
              "      <td>0.816407</td>\n",
              "    </tr>\n",
              "    <tr>\n",
              "      <th>6</th>\n",
              "      <td>Italy</td>\n",
              "      <td>162</td>\n",
              "      <td>8233</td>\n",
              "      <td>0.832794</td>\n",
              "    </tr>\n",
              "    <tr>\n",
              "      <th>7</th>\n",
              "      <td>Japan</td>\n",
              "      <td>160</td>\n",
              "      <td>8393</td>\n",
              "      <td>0.848978</td>\n",
              "    </tr>\n",
              "    <tr>\n",
              "      <th>8</th>\n",
              "      <td>Australia</td>\n",
              "      <td>148</td>\n",
              "      <td>8541</td>\n",
              "      <td>0.863949</td>\n",
              "    </tr>\n",
              "    <tr>\n",
              "      <th>9</th>\n",
              "      <td>Spain</td>\n",
              "      <td>139</td>\n",
              "      <td>8680</td>\n",
              "      <td>0.878009</td>\n",
              "    </tr>\n",
              "    <tr>\n",
              "      <th>10</th>\n",
              "      <td>Russia</td>\n",
              "      <td>132</td>\n",
              "      <td>8812</td>\n",
              "      <td>0.891362</td>\n",
              "    </tr>\n",
              "    <tr>\n",
              "      <th>11</th>\n",
              "      <td>China</td>\n",
              "      <td>99</td>\n",
              "      <td>8911</td>\n",
              "      <td>0.901376</td>\n",
              "    </tr>\n",
              "  </tbody>\n",
              "</table>\n",
              "</div>"
            ],
            "text/plain": [
              "                        Pais  Counts  Cumulative  Proportion Explained\n",
              "0   United States of America    5623        5623              0.568784\n",
              "1             United Kingdom     917        6540              0.661542\n",
              "2                     France     576        7116              0.719806\n",
              "3                    Germany     412        7528              0.761481\n",
              "4                     Canada     323        7851              0.794153\n",
              "5                      India     220        8071              0.816407\n",
              "6                      Italy     162        8233              0.832794\n",
              "7                      Japan     160        8393              0.848978\n",
              "8                  Australia     148        8541              0.863949\n",
              "9                      Spain     139        8680              0.878009\n",
              "10                    Russia     132        8812              0.891362\n",
              "11                     China      99        8911              0.901376"
            ]
          },
          "metadata": {
            "tags": []
          },
          "execution_count": 503
        }
      ]
    },
    {
      "cell_type": "markdown",
      "metadata": {
        "id": "kITX1JYmfQT1"
      },
      "source": [
        "Con el top 12 conservo ~90% de los datos. Corto ahi."
      ]
    },
    {
      "cell_type": "code",
      "metadata": {
        "id": "8b1rfFwDgIEa"
      },
      "source": [
        "prod_country = prod_country[['United States of America', 'United Kingdom', 'France', 'Germany',\r\n",
        "                             'Canada', 'India', 'Italy', 'Japan', 'Australia', 'Spain',\r\n",
        "                             'Russia', 'China']]\r\n",
        "\r\n",
        "#las agrego al df                            \r\n",
        "df = pd.concat([df, prod_country], axis=1)\r\n",
        "\r\n",
        "#elimino la columna antigua\r\n",
        "df.drop(columns = ['production_countries'], inplace = True)"
      ],
      "execution_count": 504,
      "outputs": []
    },
    {
      "cell_type": "markdown",
      "metadata": {
        "id": "DBAE_QotS9ic"
      },
      "source": [
        "####Feature: original_language"
      ]
    },
    {
      "cell_type": "code",
      "metadata": {
        "colab": {
          "base_uri": "https://localhost:8080/",
          "height": 225
        },
        "id": "sewInExIE8-a",
        "outputId": "ecbb3936-b092-4c55-9f10-22257c4a2c37"
      },
      "source": [
        "#Genero un pd Series\r\n",
        "languages = pd.crosstab(index = df.original_language, columns='counts')\r\n",
        "languages.sort_values(by = 'counts',ascending = False, inplace = True)\r\n",
        "languages.head()"
      ],
      "execution_count": 505,
      "outputs": [
        {
          "output_type": "execute_result",
          "data": {
            "text/html": [
              "<div>\n",
              "<style scoped>\n",
              "    .dataframe tbody tr th:only-of-type {\n",
              "        vertical-align: middle;\n",
              "    }\n",
              "\n",
              "    .dataframe tbody tr th {\n",
              "        vertical-align: top;\n",
              "    }\n",
              "\n",
              "    .dataframe thead th {\n",
              "        text-align: right;\n",
              "    }\n",
              "</style>\n",
              "<table border=\"1\" class=\"dataframe\">\n",
              "  <thead>\n",
              "    <tr style=\"text-align: right;\">\n",
              "      <th>col_0</th>\n",
              "      <th>counts</th>\n",
              "    </tr>\n",
              "    <tr>\n",
              "      <th>original_language</th>\n",
              "      <th></th>\n",
              "    </tr>\n",
              "  </thead>\n",
              "  <tbody>\n",
              "    <tr>\n",
              "      <th>en</th>\n",
              "      <td>6356</td>\n",
              "    </tr>\n",
              "    <tr>\n",
              "      <th>fr</th>\n",
              "      <td>201</td>\n",
              "    </tr>\n",
              "    <tr>\n",
              "      <th>hi</th>\n",
              "      <td>118</td>\n",
              "    </tr>\n",
              "    <tr>\n",
              "      <th>ru</th>\n",
              "      <td>109</td>\n",
              "    </tr>\n",
              "    <tr>\n",
              "      <th>es</th>\n",
              "      <td>95</td>\n",
              "    </tr>\n",
              "  </tbody>\n",
              "</table>\n",
              "</div>"
            ],
            "text/plain": [
              "col_0              counts\n",
              "original_language        \n",
              "en                   6356\n",
              "fr                    201\n",
              "hi                    118\n",
              "ru                    109\n",
              "es                     95"
            ]
          },
          "metadata": {
            "tags": []
          },
          "execution_count": 505
        }
      ]
    },
    {
      "cell_type": "code",
      "metadata": {
        "colab": {
          "base_uri": "https://localhost:8080/"
        },
        "id": "dmitCh2NEdRq",
        "outputId": "7c30f18e-21db-4922-a87e-34f197c94e42"
      },
      "source": [
        "#Genero un pd Series\r\n",
        "languages = pd.crosstab(index = df.original_language, columns='counts')\r\n",
        "languages.sort_values(by = 'counts',ascending = False, inplace = True)\r\n",
        "\r\n",
        "#Calculo el aporte de cada lengua\r\n",
        "cum_sum = languages.counts.cumsum()\r\n",
        "total = languages.counts.sum()\r\n",
        "prop = cum_sum / total\r\n",
        "\r\n",
        "prop.head()"
      ],
      "execution_count": 506,
      "outputs": [
        {
          "output_type": "execute_result",
          "data": {
            "text/plain": [
              "original_language\n",
              "en    0.857991\n",
              "fr    0.885124\n",
              "hi    0.901053\n",
              "ru    0.915767\n",
              "es    0.928591\n",
              "Name: counts, dtype: float64"
            ]
          },
          "metadata": {
            "tags": []
          },
          "execution_count": 506
        }
      ]
    },
    {
      "cell_type": "markdown",
      "metadata": {
        "id": "m4dCmTpxFhha"
      },
      "source": [
        "Ingles (en) solo tiene ~87% de los datos. Me quedo solo con peliculas en ingles y luego dropeo el feature. "
      ]
    },
    {
      "cell_type": "code",
      "metadata": {
        "id": "FwAMTX9uFuz8"
      },
      "source": [
        "df = df[df.original_language == 'en']\r\n",
        "df.drop(columns = ['original_language'], inplace = True)"
      ],
      "execution_count": 507,
      "outputs": []
    },
    {
      "cell_type": "markdown",
      "metadata": {
        "id": "9t2dD_vITOWO"
      },
      "source": [
        "####Feature: production_companies"
      ]
    },
    {
      "cell_type": "code",
      "metadata": {
        "id": "UHZRxlSCewb3",
        "colab": {
          "base_uri": "https://localhost:8080/"
        },
        "outputId": "ac291a0c-8217-42fc-a8a8-3890af10233d"
      },
      "source": [
        "df['production_companies'] = df.production_companies.apply(lambda x: [i['name']  for i in eval(x)])\r\n",
        "s = df['production_companies']\r\n",
        "prod_company = pd.DataFrame(mlb.fit_transform(s),columns=mlb.classes_, index=df.index)\r\n",
        "len(prod_company.columns)"
      ],
      "execution_count": 508,
      "outputs": [
        {
          "output_type": "execute_result",
          "data": {
            "text/plain": [
              "5703"
            ]
          },
          "metadata": {
            "tags": []
          },
          "execution_count": 508
        }
      ]
    },
    {
      "cell_type": "markdown",
      "metadata": {
        "id": "8kJflpzScpjQ"
      },
      "source": [
        "Production companies tiene +5700 dimensiones, mientras lo dropeo del df, despues lo evaluamos..."
      ]
    },
    {
      "cell_type": "code",
      "metadata": {
        "id": "a2Roi-Msc1t2"
      },
      "source": [
        "df.drop(columns = ['production_companies'], inplace = True)"
      ],
      "execution_count": 509,
      "outputs": []
    },
    {
      "cell_type": "markdown",
      "metadata": {
        "id": "T6gqY9n5Ts0u"
      },
      "source": [
        "####Features: release_date y runtime"
      ]
    },
    {
      "cell_type": "code",
      "metadata": {
        "id": "YU8EdZ2yacIB"
      },
      "source": [
        "df.fillna(0, inplace= True)\r\n",
        "df = df[df.runtime != 0]\r\n",
        "df = df[df.release_date != 0]"
      ],
      "execution_count": 510,
      "outputs": []
    },
    {
      "cell_type": "markdown",
      "metadata": {
        "id": "FnKUBrw67aOE"
      },
      "source": [
        "##Runtime"
      ]
    },
    {
      "cell_type": "code",
      "metadata": {
        "colab": {
          "base_uri": "https://localhost:8080/",
          "height": 265
        },
        "id": "48Dz1i5E7PCh",
        "outputId": "02adcd31-1aca-45ad-e648-855558c6e8b6"
      },
      "source": [
        "x = df.runtime\r\n",
        "plt.hist(x, bins = 100)\r\n",
        "plt.show()"
      ],
      "execution_count": 511,
      "outputs": [
        {
          "output_type": "display_data",
          "data": {
            "image/png": "[encoded data removed]",
            "text/plain": [
              "<Figure size 432x288 with 1 Axes>"
            ]
          },
          "metadata": {
            "tags": [],
            "needs_background": "light"
          }
        }
      ]
    },
    {
      "cell_type": "markdown",
      "metadata": {
        "id": "RyWZDgh0T3X6"
      },
      "source": [
        "Quito outliers y normalizo"
      ]
    },
    {
      "cell_type": "code",
      "metadata": {
        "colab": {
          "base_uri": "https://localhost:8080/",
          "height": 265
        },
        "id": "sekJzHuH73hv",
        "outputId": "13214183-c2bd-403b-9eaa-3b39cc325421"
      },
      "source": [
        "upper_lim = np.mean(df.runtime) + np.std(df.runtime)*2\r\n",
        "lower_lim = np.mean(df.runtime) - np.std(df.runtime)*2\r\n",
        "\r\n",
        "df = df[df.runtime > lower_lim]\r\n",
        "df = df[df.runtime < upper_lim]\r\n",
        "\r\n",
        "column_maxes = df.runtime.max()\r\n",
        "df.runtime = df.runtime / column_maxes\r\n",
        "\r\n",
        "x = df.runtime\r\n",
        "plt.hist(x, bins = 100)\r\n",
        "plt.show()"
      ],
      "execution_count": 512,
      "outputs": [
        {
          "output_type": "display_data",
          "data": {
            "image/png": "[encoded data removed]",
            "text/plain": [
              "<Figure size 432x288 with 1 Axes>"
            ]
          },
          "metadata": {
            "tags": [],
            "needs_background": "light"
          }
        }
      ]
    },
    {
      "cell_type": "markdown",
      "metadata": {
        "id": "xs92_NItEzcK"
      },
      "source": [
        "## Release date"
      ]
    },
    {
      "cell_type": "markdown",
      "metadata": {
        "id": "2tuLgO93UCQD"
      },
      "source": [
        "Trabajo solo con el año de la pelicula"
      ]
    },
    {
      "cell_type": "code",
      "metadata": {
        "id": "YIf6jbCNEE6O"
      },
      "source": [
        "df['release_date'] = pd.to_datetime(df['release_date'])\r\n",
        "df['year'] = pd.DatetimeIndex(df['release_date']).year\r\n",
        "df.drop(columns = ['release_date'], inplace = True)"
      ],
      "execution_count": 513,
      "outputs": []
    },
    {
      "cell_type": "code",
      "metadata": {
        "colab": {
          "base_uri": "https://localhost:8080/",
          "height": 265
        },
        "id": "bv3R3Qm4F0xw",
        "outputId": "d7e57b20-4938-4a88-d6f7-78ba2d8537c0"
      },
      "source": [
        "x = df.year\r\n",
        "plt.hist(x, bins = 100)\r\n",
        "plt.show()"
      ],
      "execution_count": 514,
      "outputs": [
        {
          "output_type": "display_data",
          "data": {
            "image/png": "[encoded data removed]",
            "text/plain": [
              "<Figure size 432x288 with 1 Axes>"
            ]
          },
          "metadata": {
            "tags": [],
            "needs_background": "light"
          }
        }
      ]
    },
    {
      "cell_type": "markdown",
      "metadata": {
        "id": "yafm6CpvUIWG"
      },
      "source": [
        "Me quedo con las peliculas del 1985 en adelante\r\n"
      ]
    },
    {
      "cell_type": "code",
      "metadata": {
        "colab": {
          "base_uri": "https://localhost:8080/",
          "height": 265
        },
        "id": "4Mm3UU-EGCe1",
        "outputId": "f7ca3b24-1f20-4604-a7b9-d792eb618ad3"
      },
      "source": [
        "df = df[df.year > 1985]\r\n",
        "x = df.year\r\n",
        "plt.hist(x, bins = 15)\r\n",
        "plt.show()"
      ],
      "execution_count": 515,
      "outputs": [
        {
          "output_type": "display_data",
          "data": {
            "image/png": "[encoded data removed]",
            "text/plain": [
              "<Figure size 432x288 with 1 Axes>"
            ]
          },
          "metadata": {
            "tags": [],
            "needs_background": "light"
          }
        }
      ]
    },
    {
      "cell_type": "markdown",
      "metadata": {
        "id": "UR1pcZaqiRMs"
      },
      "source": [
        "##Revenue"
      ]
    },
    {
      "cell_type": "code",
      "metadata": {
        "colab": {
          "base_uri": "https://localhost:8080/",
          "height": 269
        },
        "id": "UVFMggIDcADw",
        "outputId": "b127407f-c5b9-4bb9-c6bc-5c9fd83e9b44"
      },
      "source": [
        "x = df.revenue\r\n",
        "plt.hist(x, bins = 500)\r\n",
        "plt.xscale('log')\r\n",
        "plt.show()"
      ],
      "execution_count": 516,
      "outputs": [
        {
          "output_type": "display_data",
          "data": {
            "image/png": "[encoded data removed]",
            "text/plain": [
              "<Figure size 432x288 with 1 Axes>"
            ]
          },
          "metadata": {
            "tags": [],
            "needs_background": "light"
          }
        }
      ]
    },
    {
      "cell_type": "markdown",
      "metadata": {
        "id": "MdUfQ1A9CA8V"
      },
      "source": [
        "Hay valores muy bajos que probablemente sean outliers. Filtro el primer decil del revenue."
      ]
    },
    {
      "cell_type": "code",
      "metadata": {
        "colab": {
          "base_uri": "https://localhost:8080/"
        },
        "id": "LVuHsyfrB93A",
        "outputId": "2492aee8-1307-446d-884d-b962e4cdd32b"
      },
      "source": [
        "df.revenue.quantile(.1)"
      ],
      "execution_count": 517,
      "outputs": [
        {
          "output_type": "execute_result",
          "data": {
            "text/plain": [
              "187131.8"
            ]
          },
          "metadata": {
            "tags": []
          },
          "execution_count": 517
        }
      ]
    },
    {
      "cell_type": "code",
      "metadata": {
        "id": "iJsxw6pGCU6T"
      },
      "source": [
        "df = df[df.revenue > df.revenue.quantile(.1)]"
      ],
      "execution_count": 518,
      "outputs": []
    },
    {
      "cell_type": "markdown",
      "metadata": {
        "id": "hxqXNIwqAJEj"
      },
      "source": [
        "Intento de darle forma gaussiana a la distribucion de los revenues aplicando el logaritmo"
      ]
    },
    {
      "cell_type": "code",
      "metadata": {
        "id": "8RPaShkh_I1a"
      },
      "source": [
        "import math\r\n",
        "def revenue_log(x):\r\n",
        "  return math.log(x)\r\n",
        "\r\n",
        "df['log_revenue'] = df.revenue.apply(lambda x: revenue_log(x))\r\n",
        "df.drop(columns = ['revenue'], inplace = True)"
      ],
      "execution_count": 519,
      "outputs": []
    },
    {
      "cell_type": "code",
      "metadata": {
        "colab": {
          "base_uri": "https://localhost:8080/",
          "height": 265
        },
        "id": "4F8-1pgg-745",
        "outputId": "4c0e3c59-165d-4e8b-9775-f2a57891e47d"
      },
      "source": [
        "import matplotlib.pyplot as plt\r\n",
        "x = df.log_revenue\r\n",
        "plt.hist(x, bins = 300)\r\n",
        "plt.show()"
      ],
      "execution_count": 520,
      "outputs": [
        {
          "output_type": "display_data",
          "data": {
            "image/png": "[encoded data removed]",
            "text/plain": [
              "<Figure size 432x288 with 1 Axes>"
            ]
          },
          "metadata": {
            "tags": [],
            "needs_background": "light"
          }
        }
      ]
    },
    {
      "cell_type": "code",
      "metadata": {
        "colab": {
          "base_uri": "https://localhost:8080/",
          "height": 266
        },
        "id": "VjG_uE-SGlLy",
        "outputId": "79466539-c463-46f8-8719-b3449497d6cf"
      },
      "source": [
        "x.plot(kind = 'box')\r\n",
        "plt.show()"
      ],
      "execution_count": 521,
      "outputs": [
        {
          "output_type": "display_data",
          "data": {
            "image/png": "[encoded data removed]",
            "text/plain": [
              "<Figure size 432x288 with 1 Axes>"
            ]
          },
          "metadata": {
            "tags": [],
            "needs_background": "light"
          }
        }
      ]
    },
    {
      "cell_type": "code",
      "metadata": {
        "colab": {
          "base_uri": "https://localhost:8080/",
          "height": 279
        },
        "id": "EfxMhbilGvgX",
        "outputId": "4cfca9d7-f66a-4856-ceca-4fe21686b0cc"
      },
      "source": [
        "import statsmodels.api as sm\r\n",
        "from scipy.stats import norm\r\n",
        "import pylab\r\n",
        "\r\n",
        "x = norm.rvs(size=1000)\r\n",
        "sm.qqplot(x, line='45')\r\n",
        "pylab.show()\r\n",
        "\r\n",
        "plt.show()"
      ],
      "execution_count": 522,
      "outputs": [
        {
          "output_type": "display_data",
          "data": {
            "image/png": "[encoded data removed]",
            "text/plain": [
              "<Figure size 432x288 with 1 Axes>"
            ]
          },
          "metadata": {
            "tags": [],
            "needs_background": "light"
          }
        }
      ]
    },
    {
      "cell_type": "markdown",
      "metadata": {
        "id": "6FRPEylLHy9u"
      },
      "source": [
        "Tiene bastante pinta de normal salvo algunos valores muy bajos/altos"
      ]
    },
    {
      "cell_type": "code",
      "metadata": {
        "colab": {
          "base_uri": "https://localhost:8080/",
          "height": 266
        },
        "id": "Eyf-mjO_H6yR",
        "outputId": "6fe4af59-38bd-4e18-e906-405af9683862"
      },
      "source": [
        "df.head()"
      ],
      "execution_count": 523,
      "outputs": [
        {
          "output_type": "execute_result",
          "data": {
            "text/html": [
              "<div>\n",
              "<style scoped>\n",
              "    .dataframe tbody tr th:only-of-type {\n",
              "        vertical-align: middle;\n",
              "    }\n",
              "\n",
              "    .dataframe tbody tr th {\n",
              "        vertical-align: top;\n",
              "    }\n",
              "\n",
              "    .dataframe thead th {\n",
              "        text-align: right;\n",
              "    }\n",
              "</style>\n",
              "<table border=\"1\" class=\"dataframe\">\n",
              "  <thead>\n",
              "    <tr style=\"text-align: right;\">\n",
              "      <th></th>\n",
              "      <th>imdb_id</th>\n",
              "      <th>runtime</th>\n",
              "      <th>collection</th>\n",
              "      <th>Action</th>\n",
              "      <th>Adventure</th>\n",
              "      <th>Comedy</th>\n",
              "      <th>Crime</th>\n",
              "      <th>Drama</th>\n",
              "      <th>Family</th>\n",
              "      <th>Fantasy</th>\n",
              "      <th>Horror</th>\n",
              "      <th>Mystery</th>\n",
              "      <th>Romance</th>\n",
              "      <th>Science Fiction</th>\n",
              "      <th>Thriller</th>\n",
              "      <th>United States of America</th>\n",
              "      <th>United Kingdom</th>\n",
              "      <th>France</th>\n",
              "      <th>Germany</th>\n",
              "      <th>Canada</th>\n",
              "      <th>India</th>\n",
              "      <th>Italy</th>\n",
              "      <th>Japan</th>\n",
              "      <th>Australia</th>\n",
              "      <th>Spain</th>\n",
              "      <th>Russia</th>\n",
              "      <th>China</th>\n",
              "      <th>year</th>\n",
              "      <th>log_revenue</th>\n",
              "    </tr>\n",
              "  </thead>\n",
              "  <tbody>\n",
              "    <tr>\n",
              "      <th>0</th>\n",
              "      <td>tt0114709</td>\n",
              "      <td>0.558621</td>\n",
              "      <td>1</td>\n",
              "      <td>0</td>\n",
              "      <td>0</td>\n",
              "      <td>1</td>\n",
              "      <td>0</td>\n",
              "      <td>0</td>\n",
              "      <td>1</td>\n",
              "      <td>0</td>\n",
              "      <td>0</td>\n",
              "      <td>0</td>\n",
              "      <td>0</td>\n",
              "      <td>0</td>\n",
              "      <td>0</td>\n",
              "      <td>1</td>\n",
              "      <td>0</td>\n",
              "      <td>0</td>\n",
              "      <td>0</td>\n",
              "      <td>0</td>\n",
              "      <td>0</td>\n",
              "      <td>0</td>\n",
              "      <td>0</td>\n",
              "      <td>0</td>\n",
              "      <td>0</td>\n",
              "      <td>0</td>\n",
              "      <td>0</td>\n",
              "      <td>1995</td>\n",
              "      <td>19.738573</td>\n",
              "    </tr>\n",
              "    <tr>\n",
              "      <th>1</th>\n",
              "      <td>tt0113497</td>\n",
              "      <td>0.717241</td>\n",
              "      <td>0</td>\n",
              "      <td>0</td>\n",
              "      <td>1</td>\n",
              "      <td>0</td>\n",
              "      <td>0</td>\n",
              "      <td>0</td>\n",
              "      <td>1</td>\n",
              "      <td>1</td>\n",
              "      <td>0</td>\n",
              "      <td>0</td>\n",
              "      <td>0</td>\n",
              "      <td>0</td>\n",
              "      <td>0</td>\n",
              "      <td>1</td>\n",
              "      <td>0</td>\n",
              "      <td>0</td>\n",
              "      <td>0</td>\n",
              "      <td>0</td>\n",
              "      <td>0</td>\n",
              "      <td>0</td>\n",
              "      <td>0</td>\n",
              "      <td>0</td>\n",
              "      <td>0</td>\n",
              "      <td>0</td>\n",
              "      <td>0</td>\n",
              "      <td>1995</td>\n",
              "      <td>19.386893</td>\n",
              "    </tr>\n",
              "    <tr>\n",
              "      <th>3</th>\n",
              "      <td>tt0114885</td>\n",
              "      <td>0.875862</td>\n",
              "      <td>0</td>\n",
              "      <td>0</td>\n",
              "      <td>0</td>\n",
              "      <td>1</td>\n",
              "      <td>0</td>\n",
              "      <td>1</td>\n",
              "      <td>0</td>\n",
              "      <td>0</td>\n",
              "      <td>0</td>\n",
              "      <td>0</td>\n",
              "      <td>1</td>\n",
              "      <td>0</td>\n",
              "      <td>0</td>\n",
              "      <td>1</td>\n",
              "      <td>0</td>\n",
              "      <td>0</td>\n",
              "      <td>0</td>\n",
              "      <td>0</td>\n",
              "      <td>0</td>\n",
              "      <td>0</td>\n",
              "      <td>0</td>\n",
              "      <td>0</td>\n",
              "      <td>0</td>\n",
              "      <td>0</td>\n",
              "      <td>0</td>\n",
              "      <td>1995</td>\n",
              "      <td>18.215526</td>\n",
              "    </tr>\n",
              "    <tr>\n",
              "      <th>4</th>\n",
              "      <td>tt0113041</td>\n",
              "      <td>0.731034</td>\n",
              "      <td>1</td>\n",
              "      <td>0</td>\n",
              "      <td>0</td>\n",
              "      <td>1</td>\n",
              "      <td>0</td>\n",
              "      <td>0</td>\n",
              "      <td>0</td>\n",
              "      <td>0</td>\n",
              "      <td>0</td>\n",
              "      <td>0</td>\n",
              "      <td>0</td>\n",
              "      <td>0</td>\n",
              "      <td>0</td>\n",
              "      <td>1</td>\n",
              "      <td>0</td>\n",
              "      <td>0</td>\n",
              "      <td>0</td>\n",
              "      <td>0</td>\n",
              "      <td>0</td>\n",
              "      <td>0</td>\n",
              "      <td>0</td>\n",
              "      <td>0</td>\n",
              "      <td>0</td>\n",
              "      <td>0</td>\n",
              "      <td>0</td>\n",
              "      <td>1995</td>\n",
              "      <td>18.153832</td>\n",
              "    </tr>\n",
              "    <tr>\n",
              "      <th>8</th>\n",
              "      <td>tt0114576</td>\n",
              "      <td>0.731034</td>\n",
              "      <td>0</td>\n",
              "      <td>1</td>\n",
              "      <td>1</td>\n",
              "      <td>0</td>\n",
              "      <td>0</td>\n",
              "      <td>0</td>\n",
              "      <td>0</td>\n",
              "      <td>0</td>\n",
              "      <td>0</td>\n",
              "      <td>0</td>\n",
              "      <td>0</td>\n",
              "      <td>0</td>\n",
              "      <td>1</td>\n",
              "      <td>1</td>\n",
              "      <td>0</td>\n",
              "      <td>0</td>\n",
              "      <td>0</td>\n",
              "      <td>0</td>\n",
              "      <td>0</td>\n",
              "      <td>0</td>\n",
              "      <td>0</td>\n",
              "      <td>0</td>\n",
              "      <td>0</td>\n",
              "      <td>0</td>\n",
              "      <td>0</td>\n",
              "      <td>1995</td>\n",
              "      <td>17.979850</td>\n",
              "    </tr>\n",
              "  </tbody>\n",
              "</table>\n",
              "</div>"
            ],
            "text/plain": [
              "     imdb_id   runtime  collection  Action  ...  Russia  China  year  log_revenue\n",
              "0  tt0114709  0.558621           1       0  ...       0      0  1995    19.738573\n",
              "1  tt0113497  0.717241           0       0  ...       0      0  1995    19.386893\n",
              "3  tt0114885  0.875862           0       0  ...       0      0  1995    18.215526\n",
              "4  tt0113041  0.731034           1       0  ...       0      0  1995    18.153832\n",
              "8  tt0114576  0.731034           0       1  ...       0      0  1995    17.979850\n",
              "\n",
              "[5 rows x 29 columns]"
            ]
          },
          "metadata": {
            "tags": []
          },
          "execution_count": 523
        }
      ]
    },
    {
      "cell_type": "markdown",
      "metadata": {
        "id": "IdgGenTqNq9a"
      },
      "source": [
        "## Armado de modelo predictivo"
      ]
    },
    {
      "cell_type": "code",
      "metadata": {
        "id": "oMTLpsAYQ0w4"
      },
      "source": [
        "from sklearn.linear_model import LinearRegression\r\n",
        "from sklearn.metrics import mean_squared_error, r2_score"
      ],
      "execution_count": 524,
      "outputs": []
    },
    {
      "cell_type": "markdown",
      "metadata": {
        "id": "PJOSvNJDQrn1"
      },
      "source": [
        "####Train and test set"
      ]
    },
    {
      "cell_type": "code",
      "metadata": {
        "colab": {
          "base_uri": "https://localhost:8080/"
        },
        "id": "BA-sXzedP8gz",
        "outputId": "868af3e2-4abe-4296-f23f-bf550151e0cd"
      },
      "source": [
        "train_df = df[df.year <= 2014]\r\n",
        "test_df = df[df.year > 2014]\r\n",
        "\r\n",
        "len(train_df), len(test_df), len(test_df) / len(train_df)"
      ],
      "execution_count": 525,
      "outputs": [
        {
          "output_type": "execute_result",
          "data": {
            "text/plain": [
              "(4181, 478, 0.1143267160966276)"
            ]
          },
          "metadata": {
            "tags": []
          },
          "execution_count": 525
        }
      ]
    },
    {
      "cell_type": "code",
      "metadata": {
        "id": "Rym_o_I1iitY"
      },
      "source": [
        "X_train = train_df[train_df.columns.difference(['year', 'log_revenue', 'imdb_id'])]\r\n",
        "y_train = train_df[['log_revenue']]\r\n",
        "\r\n",
        "X_test = test_df[test_df.columns.difference(['year', 'log_revenue', 'imdb_id'])]\r\n",
        "y_test = test_df[['log_revenue']]"
      ],
      "execution_count": 526,
      "outputs": []
    },
    {
      "cell_type": "markdown",
      "metadata": {
        "id": "wuZ2CJWsRKNP"
      },
      "source": [
        "####Modelos"
      ]
    },
    {
      "cell_type": "markdown",
      "metadata": {
        "id": "5LhJ744jQqxA"
      },
      "source": [
        "Regresión Lineal"
      ]
    },
    {
      "cell_type": "code",
      "metadata": {
        "id": "N98m5w8RLfC_"
      },
      "source": [
        "regr = LinearRegression()\r\n",
        "regr.fit(X_train, y_train)\r\n",
        "predictions = regr.predict(X_test)"
      ],
      "execution_count": 527,
      "outputs": []
    },
    {
      "cell_type": "code",
      "metadata": {
        "colab": {
          "base_uri": "https://localhost:8080/"
        },
        "id": "yaW6eNo8Lq8o",
        "outputId": "84b27350-6cfc-48f6-9deb-674f0fed6408"
      },
      "source": [
        "print('Mean Squared Error: %.2f' % mean_squared_error(y_test, predictions))\r\n",
        "print('Coefficient of Determination R2: %.2f' % r2_score(y_test, predictions))"
      ],
      "execution_count": 528,
      "outputs": [
        {
          "output_type": "stream",
          "text": [
            "Mean Squared Error: 2.73\n",
            "Coefficient of Determination R2: 0.39\n"
          ],
          "name": "stdout"
        }
      ]
    },
    {
      "cell_type": "code",
      "metadata": {
        "colab": {
          "base_uri": "https://localhost:8080/"
        },
        "id": "uHXFa7CENp8Z",
        "outputId": "278ae165-983e-41b3-82ef-8e3586005f8f"
      },
      "source": [
        "regr.coef_"
      ],
      "execution_count": 529,
      "outputs": [
        {
          "output_type": "execute_result",
          "data": {
            "text/plain": [
              "array([[ 3.31278972e-01,  3.54086921e-01,  3.94825131e-01,\n",
              "         4.04993010e-02,  4.75338103e-01,  4.36006641e-01,\n",
              "         4.83787724e-02, -5.23845012e-01,  1.09533618e+00,\n",
              "         4.17254729e-01,  8.30888078e-04,  1.54544145e-01,\n",
              "        -7.84114344e-02, -8.10444168e-02, -1.98269373e-01,\n",
              "        -3.76701214e-01,  2.59657755e-01,  2.12538021e-01,\n",
              "        -3.76928887e-01,  9.41563869e-04,  1.72531670e-01,\n",
              "         2.66843142e-01,  6.21995711e-02,  1.29160259e+00,\n",
              "         1.13698452e+00,  6.91217108e+00]])"
            ]
          },
          "metadata": {
            "tags": []
          },
          "execution_count": 529
        }
      ]
    },
    {
      "cell_type": "markdown",
      "metadata": {
        "id": "AvDSoKRFQtmh"
      },
      "source": [
        "Árbol de Decisión"
      ]
    },
    {
      "cell_type": "code",
      "metadata": {
        "id": "_4WeqXstOSNX"
      },
      "source": [
        "from sklearn.tree import DecisionTreeRegressor\r\n",
        "rt = DecisionTreeRegressor(criterion = \"mse\", max_depth=7)\r\n",
        "model_r = rt.fit(X_train, y_train)\r\n",
        "y_pred = model_r.predict(X_test)"
      ],
      "execution_count": 530,
      "outputs": []
    },
    {
      "cell_type": "code",
      "metadata": {
        "colab": {
          "base_uri": "https://localhost:8080/"
        },
        "id": "NfJft3YjPI0R",
        "outputId": "292fc4ea-ff46-4b8a-fd86-8e21ad01d18d"
      },
      "source": [
        "print(\"Mean Squared Error: %.2f\" % mean_squared_error(y_test, y_pred))\r\n",
        "print(\"Coefficient of Determination R2: %.2f\" % r2_score(y_test, y_pred))"
      ],
      "execution_count": 531,
      "outputs": [
        {
          "output_type": "stream",
          "text": [
            "Mean Squared Error: 3.10\n",
            "Coefficient of Determination R2: 0.31\n"
          ],
          "name": "stdout"
        }
      ]
    },
    {
      "cell_type": "code",
      "metadata": {
        "colab": {
          "base_uri": "https://localhost:8080/"
        },
        "id": "DfaG3meSPOYA",
        "outputId": "47c101ab-ca06-478f-90fb-fd65dfc431e9"
      },
      "source": [
        "for importance, name in sorted(zip(rt.feature_importances_, X_train.columns),reverse=True):\r\n",
        "  print (name, importance)"
      ],
      "execution_count": 532,
      "outputs": [
        {
          "output_type": "stream",
          "text": [
            "runtime 0.2869709628820763\n",
            "collection 0.2786885656892998\n",
            "United States of America 0.1378231846566236\n",
            "Family 0.08632631034120007\n",
            "Drama 0.060650624510623495\n",
            "Action 0.03211909952242194\n",
            "Horror 0.01809082150742261\n",
            "Fantasy 0.01746490790222117\n",
            "Comedy 0.016971780626590605\n",
            "France 0.012139597563097324\n",
            "Adventure 0.011438751586086184\n",
            "United Kingdom 0.01026422672449244\n",
            "Romance 0.009457155961791943\n",
            "Germany 0.007046826828530474\n",
            "Mystery 0.004069352555382951\n",
            "Canada 0.003753446122193278\n",
            "Science Fiction 0.0016248604092595697\n",
            "Thriller 0.0015880541675620044\n",
            "Crime 0.0015214193699266325\n",
            "Italy 0.0007756493713952518\n",
            "Australia 0.0005304351537260735\n",
            "China 0.00042073784238828014\n",
            "Japan 0.0002632287056881436\n",
            "Spain 0.0\n",
            "Russia 0.0\n",
            "India 0.0\n"
          ],
          "name": "stdout"
        }
      ]
    },
    {
      "cell_type": "code",
      "metadata": {
        "id": "AhKjRT_Yftqf"
      },
      "source": [
        ""
      ],
      "execution_count": null,
      "outputs": []
    },
    {
      "cell_type": "markdown",
      "metadata": {
        "id": "BRBwht1XfyWC"
      },
      "source": [
        "##Armo pipeline"
      ]
    },
    {
      "cell_type": "markdown",
      "metadata": {
        "id": "po1WlzbZXQXK"
      },
      "source": [
        "Abrimos el csv e importamos algunas librerias"
      ]
    },
    {
      "cell_type": "code",
      "metadata": {
        "id": "4nmi9B99j6vL"
      },
      "source": [
        "from google.colab import files\r\n",
        "uploaded = files.upload()"
      ],
      "execution_count": 453,
      "outputs": []
    },
    {
      "cell_type": "code",
      "metadata": {
        "id": "0RnsnVP5XDxf"
      },
      "source": [
        "import pandas as pd \r\n",
        "import numpy as np\r\n",
        "import io"
      ],
      "execution_count": null,
      "outputs": []
    },
    {
      "cell_type": "code",
      "metadata": {
        "colab": {
          "base_uri": "https://localhost:8080/"
        },
        "id": "Oblb6mvof0Ju",
        "outputId": "2d181610-b647-4cad-f005-f48fa548186d"
      },
      "source": [
        "df = pd.read_csv(io.BytesIO(uploaded['movies_metadata.csv']))"
      ],
      "execution_count": 454,
      "outputs": [
        {
          "output_type": "stream",
          "text": [
            "/usr/local/lib/python3.6/dist-packages/IPython/core/interactiveshell.py:2718: DtypeWarning: Columns (10) have mixed types.Specify dtype option on import or set low_memory=False.\n",
            "  interactivity=interactivity, compiler=compiler, result=result)\n"
          ],
          "name": "stderr"
        }
      ]
    },
    {
      "cell_type": "markdown",
      "metadata": {
        "id": "yaa2THMrXUAq"
      },
      "source": [
        "###Pre-processing"
      ]
    },
    {
      "cell_type": "markdown",
      "metadata": {
        "id": "XLjd4_gFXYAe"
      },
      "source": [
        "####Revenue:\r\n",
        "1. Quitamos valores menores o iguales a 0.\r\n",
        "2. Filtramos el 5% de los valores mas bajos para evitar errores de tipeo.\r\n",
        "3. Normalizamos aplicando el logaritmo."
      ]
    },
    {
      "cell_type": "code",
      "metadata": {
        "id": "jH-Z6aacmc1b"
      },
      "source": [
        "df = df[df.revenue > 0]\r\n",
        "df = df[df.revenue > df.revenue.quantile(.05)]\r\n",
        "\r\n",
        "import math\r\n",
        "def revenue_log(x):\r\n",
        "  return math.log(x)\r\n",
        "\r\n",
        "df['revenue'] = df.revenue.apply(lambda x: revenue_log(x))"
      ],
      "execution_count": 455,
      "outputs": []
    },
    {
      "cell_type": "markdown",
      "metadata": {
        "id": "oclWQ06BXlhR"
      },
      "source": [
        "####Runtime:\r\n",
        "1. Sacamos valores nulos\r\n",
        "2. Sacamos valores que esten a mas o menos de 2 desviaciones estandar de la media."
      ]
    },
    {
      "cell_type": "code",
      "metadata": {
        "id": "CVg1KTJpIFM4"
      },
      "source": [
        "df.fillna(0, inplace= True)\r\n",
        "df = df[df.runtime != 0]\r\n",
        "upper_lim = np.mean(df.runtime) + np.std(df.runtime)*2\r\n",
        "lower_lim = np.mean(df.runtime) - np.std(df.runtime)*2\r\n",
        "\r\n",
        "df = df[df.runtime > lower_lim]\r\n",
        "df = df[df.runtime < upper_lim]"
      ],
      "execution_count": 456,
      "outputs": []
    },
    {
      "cell_type": "markdown",
      "metadata": {
        "id": "vd0RmOheXx4-"
      },
      "source": [
        "####Release Date:\r\n",
        "1. Convertimos a tipo de dato datetime.\r\n",
        "2. Nos quedamos solo con el año.\r\n",
        "3. Filtramos todas aquellas peliculas anteriores al 1985"
      ]
    },
    {
      "cell_type": "code",
      "metadata": {
        "id": "L3ceOdo56c6b"
      },
      "source": [
        "#Convierto la fecha a datetime y me quedo solo con el año\r\n",
        "df['release_date'] = pd.to_datetime(df['release_date'])\r\n",
        "df['year'] = pd.DatetimeIndex(df['release_date']).year\r\n",
        "df = df[df.year > 1985]\r\n",
        "df.drop(columns = ['release_date'], inplace = True)"
      ],
      "execution_count": 457,
      "outputs": []
    },
    {
      "cell_type": "markdown",
      "metadata": {
        "id": "Nm38Y-g0YBQP"
      },
      "source": [
        "#### Géneros, Países y Colecciones:\r\n",
        "1. Convertimos los diccionarios a listas, quedandonos solo con el valor que nos interesa (name).\r\n",
        "2. En el caso de colecciones dado que hay >700 colecctions con frecuencias bajas la convertimos en un tipo de dato binario. 1 si es parte de una coleccion, 0 caso contrario."
      ]
    },
    {
      "cell_type": "code",
      "metadata": {
        "id": "8GAmPUT0k2Ca"
      },
      "source": [
        "#Desarmo diccionarios y convierto en listas\r\n",
        "\r\n",
        "#Generos\r\n",
        "df['genres'] = df.genres.apply(lambda x: [i['name']  for i in eval(x)])\r\n",
        "\r\n",
        "#Paises\r\n",
        "df['production_countries'] = df.production_countries.apply(lambda x: [i['name']  for i in eval(x)])\r\n",
        "\r\n",
        "#Colecciones\r\n",
        "df['belongs_to_collection'].fillna(0, inplace = True)\r\n",
        "import ast\r\n",
        "def collection_from_dict(x):\r\n",
        "  if x != 0:\r\n",
        "   #convert string to dictionary\r\n",
        "    res = ast.literal_eval(x) \r\n",
        "    #return just the name of the collection\r\n",
        "    return 1\r\n",
        "  return 0\r\n",
        "df['belongs_to_collection'] = df.belongs_to_collection.apply(lambda x: collection_from_dict(x))\r\n"
      ],
      "execution_count": 458,
      "outputs": []
    },
    {
      "cell_type": "markdown",
      "metadata": {
        "id": "WPpFprJNYWTo"
      },
      "source": [
        "###Feature Selection:\r\n",
        "1. Elegimos que variables dropear del modelo."
      ]
    },
    {
      "cell_type": "code",
      "metadata": {
        "id": "ptcykZy_f1rE"
      },
      "source": [
        "df=df.drop(columns = ['adult','budget','homepage','id','original_title',\r\n",
        "                     'overview','popularity','poster_path','production_companies',\r\n",
        "                     'spoken_languages','status', 'tagline', 'title', 'video',\r\n",
        "                     'vote_average','vote_count'], axis=1)\r\n"
      ],
      "execution_count": 459,
      "outputs": []
    },
    {
      "cell_type": "markdown",
      "metadata": {
        "id": "cHtLKpUuYeLZ"
      },
      "source": [
        "###Train and test split:\r\n",
        "1. Cortamos por año (2014) dado que queremos que el modelo aprenda a predecir películas del futuro."
      ]
    },
    {
      "cell_type": "code",
      "metadata": {
        "colab": {
          "base_uri": "https://localhost:8080/"
        },
        "id": "uTyyzAojhOcH",
        "outputId": "f08bfda0-8780-484c-f9c5-956e4eaa9bc3"
      },
      "source": [
        "#Train and test split\r\n",
        "train_df = df[df.year <= 2014]\r\n",
        "test_df = df[df.year > 2014]\r\n",
        "len(train_df), len(test_df), len(test_df) / len(train_df)"
      ],
      "execution_count": 460,
      "outputs": [
        {
          "output_type": "execute_result",
          "data": {
            "text/plain": [
              "(6055, 647, 0.10685383980181667)"
            ]
          },
          "metadata": {
            "tags": []
          },
          "execution_count": 460
        }
      ]
    },
    {
      "cell_type": "code",
      "metadata": {
        "id": "6gjveGTE62cI"
      },
      "source": [
        "y_train = (train_df.revenue).values\r\n",
        "y_test = (test_df.revenue).values"
      ],
      "execution_count": 461,
      "outputs": []
    },
    {
      "cell_type": "markdown",
      "metadata": {
        "id": "j557gxzXYorq"
      },
      "source": [
        "###Feature Engineering"
      ]
    },
    {
      "cell_type": "markdown",
      "metadata": {
        "id": "O4NpY8a6Y0_O"
      },
      "source": [
        "Vamos a usar todo como listas de diccionarios para poder usar el ecosistema de sklearn de forma sencilla"
      ]
    },
    {
      "cell_type": "code",
      "metadata": {
        "id": "ankmLhaurMWb"
      },
      "source": [
        "train_docs = train_df.to_dict(orient='records')\r\n",
        "test_docs = test_df.to_dict(orient='records')"
      ],
      "execution_count": 463,
      "outputs": []
    },
    {
      "cell_type": "code",
      "metadata": {
        "colab": {
          "base_uri": "https://localhost:8080/"
        },
        "id": "qVY1f6qE2UPa",
        "outputId": "5feca15e-64a3-458d-8170-bfef6d35e0af"
      },
      "source": [
        "train_docs[0], test_docs[0]"
      ],
      "execution_count": 487,
      "outputs": [
        {
          "output_type": "execute_result",
          "data": {
            "text/plain": [
              "({'belongs_to_collection': 1,\n",
              "  'genres': ['Animation', 'Comedy', 'Family'],\n",
              "  'imdb_id': 'tt0114709',\n",
              "  'original_language': 'en',\n",
              "  'production_countries': ['United States of America'],\n",
              "  'revenue': 19.7385732187406,\n",
              "  'runtime': 81.0,\n",
              "  'year': 1995},\n",
              " {'belongs_to_collection': 1,\n",
              "  'genres': ['Action', 'Adventure', 'Thriller'],\n",
              "  'imdb_id': 'tt2381249',\n",
              "  'original_language': 'en',\n",
              "  'production_countries': ['China', 'United States of America'],\n",
              "  'revenue': 20.341024173461395,\n",
              "  'runtime': 131.0,\n",
              "  'year': 2015})"
            ]
          },
          "metadata": {
            "tags": []
          },
          "execution_count": 487
        }
      ]
    },
    {
      "cell_type": "markdown",
      "metadata": {
        "id": "ol-BesSKZR5e"
      },
      "source": [
        "####Performance metrics:\r\n",
        "1. Medimos el mean absolute percentage error (mape) y el r2 para el train y test set."
      ]
    },
    {
      "cell_type": "code",
      "metadata": {
        "id": "eh2iwdwr41gW"
      },
      "source": [
        "from sklearn.metrics import r2_score\r\n",
        "\r\n",
        "def test_pipe(pipe):\r\n",
        "    return {\r\n",
        "        'train_r2': round(r2_score(y_train, pipe.predict(train_docs)),2),\r\n",
        "        'train_mape' : round(np.mean(np.abs(percentage_error(np.asarray(y_train), np.asarray(pipe.predict(train_docs))))) * 100,2),\r\n",
        "        'test_r2': round(r2_score(y_test, pipe.predict(test_docs)),2),\r\n",
        "        'test_mape' : round(np.mean(np.abs(percentage_error(np.asarray(y_test), np.asarray(pipe.predict(test_docs))))) * 100,2)\r\n",
        "    }\r\n",
        "\r\n",
        "def percentage_error(actual, predicted):\r\n",
        "    res = np.empty(actual.shape)\r\n",
        "    for j in range(actual.shape[0]):\r\n",
        "        if actual[j] != 0:\r\n",
        "            res[j] = (actual[j] - predicted[j]) / actual[j]\r\n",
        "        else:\r\n",
        "            res[j] = predicted[j] / np.mean(actual)\r\n",
        "    return res"
      ],
      "execution_count": 470,
      "outputs": []
    },
    {
      "cell_type": "markdown",
      "metadata": {
        "id": "dFwJCwVrY6BE"
      },
      "source": [
        "####Feature Géneros:\r\n",
        "1. Hacemos variables dummies\r\n",
        "2. La agregamos al pipeline\r\n",
        "3. Fiteamos y medimos el performance"
      ]
    },
    {
      "cell_type": "code",
      "metadata": {
        "id": "lmW8VIMbkjbr"
      },
      "source": [
        "from sklearn.base import BaseEstimator, TransformerMixin\r\n",
        "\r\n",
        "class GenreDummies(BaseEstimator, TransformerMixin):\r\n",
        "    def fit(self, X, y): return self\r\n",
        "\r\n",
        "    def transform(self, X):\r\n",
        "        res = []\r\n",
        "        for e in X:\r\n",
        "            res.append({g: 1 for g in e['genres']})\r\n",
        "        return res"
      ],
      "execution_count": 465,
      "outputs": []
    },
    {
      "cell_type": "code",
      "metadata": {
        "colab": {
          "base_uri": "https://localhost:8080/"
        },
        "id": "9yZZN-lc28B8",
        "outputId": "707b809b-5703-4a04-d5f5-40c7825e1ffb"
      },
      "source": [
        "GenreDummies().transform(train_docs[:10])"
      ],
      "execution_count": 466,
      "outputs": [
        {
          "output_type": "execute_result",
          "data": {
            "text/plain": [
              "[{'Animation': 1, 'Comedy': 1, 'Family': 1},\n",
              " {'Adventure': 1, 'Family': 1, 'Fantasy': 1},\n",
              " {'Comedy': 1, 'Drama': 1, 'Romance': 1},\n",
              " {'Comedy': 1},\n",
              " {'Action': 1, 'Adventure': 1, 'Thriller': 1},\n",
              " {'Action': 1, 'Adventure': 1, 'Thriller': 1},\n",
              " {'Comedy': 1, 'Drama': 1, 'Romance': 1},\n",
              " {'Adventure': 1, 'Animation': 1, 'Family': 1},\n",
              " {'Action': 1, 'Adventure': 1},\n",
              " {'Drama': 1, 'Romance': 1}]"
            ]
          },
          "metadata": {
            "tags": []
          },
          "execution_count": 466
        }
      ]
    },
    {
      "cell_type": "code",
      "metadata": {
        "id": "4VLwclqWrfJR"
      },
      "source": [
        "from sklearn.pipeline import make_pipeline\r\n",
        "from sklearn.feature_extraction import DictVectorizer\r\n",
        "from sklearn.linear_model import LinearRegression"
      ],
      "execution_count": 467,
      "outputs": []
    },
    {
      "cell_type": "markdown",
      "metadata": {
        "id": "ZXynNZZqZhpe"
      },
      "source": [
        "Armamos el pipeline, lo fiteamos y lo medimos"
      ]
    },
    {
      "cell_type": "code",
      "metadata": {
        "id": "1AaYxGkgrj2T"
      },
      "source": [
        "pipe = make_pipeline(\r\n",
        "    GenreDummies(), DictVectorizer(sparse=False),  \r\n",
        "    LinearRegression()\r\n",
        ")\r\n",
        "\r\n",
        "pipe.fit(train_docs, y_train);"
      ],
      "execution_count": 468,
      "outputs": []
    },
    {
      "cell_type": "code",
      "metadata": {
        "colab": {
          "base_uri": "https://localhost:8080/"
        },
        "id": "aLMz5CZ8ryWJ",
        "outputId": "2d90838d-c66f-420d-d573-4f4b4bd49a94"
      },
      "source": [
        "pipe.predict(train_docs[:10])"
      ],
      "execution_count": 469,
      "outputs": [
        {
          "output_type": "execute_result",
          "data": {
            "text/plain": [
              "array([17.47467699, 18.25461521, 15.96120399, 16.38470431, 17.68795974,\n",
              "       17.68795974, 15.96120399, 18.00098863, 17.39918703, 15.81464072])"
            ]
          },
          "metadata": {
            "tags": []
          },
          "execution_count": 469
        }
      ]
    },
    {
      "cell_type": "code",
      "metadata": {
        "colab": {
          "base_uri": "https://localhost:8080/"
        },
        "id": "jR1xaO_i5LLU",
        "outputId": "2ebf22e1-8e4a-470b-ea0d-add19ac9a60a"
      },
      "source": [
        "test_pipe(pipe)"
      ],
      "execution_count": 471,
      "outputs": [
        {
          "output_type": "execute_result",
          "data": {
            "text/plain": [
              "{'test_mape': 12.91, 'test_r2': 0.2, 'train_mape': 10.57, 'train_r2': 0.16}"
            ]
          },
          "metadata": {
            "tags": []
          },
          "execution_count": 471
        }
      ]
    },
    {
      "cell_type": "markdown",
      "metadata": {
        "id": "jP8x4igG7xh6"
      },
      "source": [
        "####Feature años:\r\n",
        "1. Armamos una variable que indique hace cuantos años se filmo la pelicula.\r\n",
        "2. La agregamos al pipeline, fiteamos y medimos el performance."
      ]
    },
    {
      "cell_type": "code",
      "metadata": {
        "id": "RXpwscqE7yXp"
      },
      "source": [
        "from datetime import datetime\r\n",
        "from sklearn.base import BaseEstimator, TransformerMixin\r\n",
        "\r\n",
        "class YearsAgo(BaseEstimator, TransformerMixin):\r\n",
        "    def __init__(self):\r\n",
        "        self.now = datetime.now().year\r\n",
        "        \r\n",
        "    def fit(self, X, y): return self\r\n",
        "\r\n",
        "    def transform(self, X):\r\n",
        "        res = []\r\n",
        "        for e in X:\r\n",
        "            res.append({'years_ago': self.now - int(e['year'])})\r\n",
        "        return res"
      ],
      "execution_count": 472,
      "outputs": []
    },
    {
      "cell_type": "code",
      "metadata": {
        "colab": {
          "base_uri": "https://localhost:8080/"
        },
        "id": "iLSW548Y8KcQ",
        "outputId": "0c264643-b317-4650-e1da-bb447507588d"
      },
      "source": [
        "YearsAgo().transform(train_docs[150:160])"
      ],
      "execution_count": 473,
      "outputs": [
        {
          "output_type": "execute_result",
          "data": {
            "text/plain": [
              "[{'years_ago': 28},\n",
              " {'years_ago': 26},\n",
              " {'years_ago': 26},\n",
              " {'years_ago': 27},\n",
              " {'years_ago': 27},\n",
              " {'years_ago': 27},\n",
              " {'years_ago': 27},\n",
              " {'years_ago': 29},\n",
              " {'years_ago': 27},\n",
              " {'years_ago': 27}]"
            ]
          },
          "metadata": {
            "tags": []
          },
          "execution_count": 473
        }
      ]
    },
    {
      "cell_type": "code",
      "metadata": {
        "id": "OFlkmecC727f"
      },
      "source": [
        "from sklearn.pipeline import make_union\r\n",
        "\r\n",
        "pipe = make_pipeline(\r\n",
        "    make_union(\r\n",
        "        make_pipeline(YearsAgo(), DictVectorizer(sparse=False)),\r\n",
        "        make_pipeline(GenreDummies(), DictVectorizer(sparse=False))\r\n",
        "    ),\r\n",
        "    LinearRegression()\r\n",
        ")\r\n",
        "\r\n",
        "pipe.fit(train_docs, y_train);"
      ],
      "execution_count": 474,
      "outputs": []
    },
    {
      "cell_type": "code",
      "metadata": {
        "colab": {
          "base_uri": "https://localhost:8080/"
        },
        "id": "H1gcRy8y78k4",
        "outputId": "0093260d-32f6-4ac2-c31c-409ad1a1cd88"
      },
      "source": [
        "test_pipe(pipe)"
      ],
      "execution_count": 475,
      "outputs": [
        {
          "output_type": "execute_result",
          "data": {
            "text/plain": [
              "{'test_mape': 12.91, 'test_r2': 0.19, 'train_mape': 10.5, 'train_r2': 0.16}"
            ]
          },
          "metadata": {
            "tags": []
          },
          "execution_count": 475
        }
      ]
    },
    {
      "cell_type": "markdown",
      "metadata": {
        "id": "63VWunkeZ8zJ"
      },
      "source": [
        "####Feature países:\r\n",
        "1. Armamos variables dummies.\r\n",
        "2. La agregamos al pipeline, fiteamos y medimos el performance."
      ]
    },
    {
      "cell_type": "code",
      "metadata": {
        "id": "RjS6ncWN94xw"
      },
      "source": [
        "class CountryDummies(BaseEstimator, TransformerMixin):\r\n",
        "    def fit(self, X, y): return self\r\n",
        "\r\n",
        "    def transform(self, X):\r\n",
        "        res = []\r\n",
        "        for e in X:\r\n",
        "            res.append({g: 1 for g in e['production_countries']})\r\n",
        "        return res"
      ],
      "execution_count": 476,
      "outputs": []
    },
    {
      "cell_type": "code",
      "metadata": {
        "colab": {
          "base_uri": "https://localhost:8080/"
        },
        "id": "-mefFVqC97e4",
        "outputId": "0cb94ac7-745b-491f-eb50-72d17c5a656b"
      },
      "source": [
        "CountryDummies().transform(train_docs[:10])"
      ],
      "execution_count": 477,
      "outputs": [
        {
          "output_type": "execute_result",
          "data": {
            "text/plain": [
              "[{'United States of America': 1},\n",
              " {'United States of America': 1},\n",
              " {'United States of America': 1},\n",
              " {'United States of America': 1},\n",
              " {'United States of America': 1},\n",
              " {'United Kingdom': 1, 'United States of America': 1},\n",
              " {'United States of America': 1},\n",
              " {'United States of America': 1},\n",
              " {'France': 1, 'Germany': 1, 'Italy': 1, 'United States of America': 1},\n",
              " {'United Kingdom': 1, 'United States of America': 1}]"
            ]
          },
          "metadata": {
            "tags": []
          },
          "execution_count": 477
        }
      ]
    },
    {
      "cell_type": "code",
      "metadata": {
        "id": "87ZazfNR-Bn8"
      },
      "source": [
        "from sklearn.pipeline import make_union\r\n",
        "\r\n",
        "pipe = make_pipeline(\r\n",
        "    make_union(\r\n",
        "        make_pipeline(YearsAgo(), DictVectorizer(sparse=False)),\r\n",
        "        make_pipeline(GenreDummies(), DictVectorizer(sparse=False)),\r\n",
        "        make_pipeline(CountryDummies(), DictVectorizer(sparse=False))\r\n",
        "    ),\r\n",
        "    LinearRegression()\r\n",
        ")\r\n",
        "\r\n",
        "pipe.fit(train_docs, y_train);"
      ],
      "execution_count": 479,
      "outputs": []
    },
    {
      "cell_type": "code",
      "metadata": {
        "colab": {
          "base_uri": "https://localhost:8080/"
        },
        "id": "iq9x-Tfx-F18",
        "outputId": "25c7ad38-68fe-4dd7-930a-a26b256f857e"
      },
      "source": [
        "test_pipe(pipe)"
      ],
      "execution_count": 480,
      "outputs": [
        {
          "output_type": "execute_result",
          "data": {
            "text/plain": [
              "{'test_mape': 11.84, 'test_r2': 0.3, 'train_mape': 9.72, 'train_r2': 0.26}"
            ]
          },
          "metadata": {
            "tags": []
          },
          "execution_count": 480
        }
      ]
    },
    {
      "cell_type": "markdown",
      "metadata": {
        "id": "TdeNA3CZaDW4"
      },
      "source": [
        "####Feature runtime:\r\n",
        "1. Calculamos el runtime máximo.\r\n",
        "2. Normalizamos la variable dividiendola por el runtime máximo.\r\n",
        "3. La añadimos al pipeline, lo fiteamos y medimos el performance."
      ]
    },
    {
      "cell_type": "code",
      "metadata": {
        "id": "R2-JZimv_lo0"
      },
      "source": [
        "max_runtime = df.runtime.max()\r\n",
        "\r\n",
        "class Runtime(BaseEstimator, TransformerMixin):\r\n",
        "    def fit(self, X, y): return self\r\n",
        "\r\n",
        "    def transform(self, X):\r\n",
        "        res = []\r\n",
        "        for e in X:\r\n",
        "            res.append({'runtime': e['runtime'] / max_runtime})\r\n",
        "        return res\r\n",
        "\r\n"
      ],
      "execution_count": 481,
      "outputs": []
    },
    {
      "cell_type": "code",
      "metadata": {
        "colab": {
          "base_uri": "https://localhost:8080/"
        },
        "id": "xhB5bWiFAUhS",
        "outputId": "5b5abbef-08c9-40a5-a52a-0e4d1258b564"
      },
      "source": [
        "Runtime().transform(train_docs[:5])"
      ],
      "execution_count": 482,
      "outputs": [
        {
          "output_type": "execute_result",
          "data": {
            "text/plain": [
              "[{'runtime': 0.54},\n",
              " {'runtime': 0.6933333333333334},\n",
              " {'runtime': 0.8466666666666667},\n",
              " {'runtime': 0.7066666666666667},\n",
              " {'runtime': 0.7066666666666667}]"
            ]
          },
          "metadata": {
            "tags": []
          },
          "execution_count": 482
        }
      ]
    },
    {
      "cell_type": "markdown",
      "metadata": {
        "id": "N3mbw70oadtB"
      },
      "source": [
        "#####Regresión Logística"
      ]
    },
    {
      "cell_type": "code",
      "metadata": {
        "id": "qC146oKIFCRr"
      },
      "source": [
        "pipe = make_pipeline(\r\n",
        "    make_union(\r\n",
        "        make_pipeline(YearsAgo(), DictVectorizer(sparse=False)),\r\n",
        "        make_pipeline(GenreDummies(), DictVectorizer(sparse=False)),\r\n",
        "        make_pipeline(CountryDummies(), DictVectorizer(sparse=False)),\r\n",
        "        make_pipeline(Runtime(), DictVectorizer(sparse=False))        \r\n",
        "    ),\r\n",
        "    LinearRegression()\r\n",
        ")\r\n",
        "\r\n",
        "pipe.fit(train_docs, y_train);"
      ],
      "execution_count": 483,
      "outputs": []
    },
    {
      "cell_type": "code",
      "metadata": {
        "colab": {
          "base_uri": "https://localhost:8080/"
        },
        "id": "Xpo8hPlUFNZf",
        "outputId": "ef6d1698-3808-478e-d811-f6b99fcee69b"
      },
      "source": [
        "test_pipe(pipe)"
      ],
      "execution_count": 484,
      "outputs": [
        {
          "output_type": "execute_result",
          "data": {
            "text/plain": [
              "{'test_mape': 11.06, 'test_r2': 0.37, 'train_mape': 9.01, 'train_r2': 0.35}"
            ]
          },
          "metadata": {
            "tags": []
          },
          "execution_count": 484
        }
      ]
    },
    {
      "cell_type": "markdown",
      "metadata": {
        "id": "vHI4uZEDaZMU"
      },
      "source": [
        "#####Red Neuronal"
      ]
    },
    {
      "cell_type": "code",
      "metadata": {
        "id": "cFaS9BRdKB8e"
      },
      "source": [
        "from sklearn.neural_network import MLPRegressor\r\n",
        "\r\n",
        "pipe = make_pipeline(\r\n",
        "    make_union(\r\n",
        "        make_pipeline(YearsAgo(), DictVectorizer(sparse=False)),\r\n",
        "        make_pipeline(GenreDummies(), DictVectorizer(sparse=False)),\r\n",
        "        make_pipeline(CountryDummies(), DictVectorizer(sparse=False)),\r\n",
        "        make_pipeline(Runtime(), DictVectorizer(sparse=False))        \r\n",
        "    ),\r\n",
        "    MLPRegressor(random_state=21, max_iter=500)\r\n",
        ")\r\n",
        "\r\n",
        "pipe.fit(train_docs, y_train);"
      ],
      "execution_count": 485,
      "outputs": []
    },
    {
      "cell_type": "code",
      "metadata": {
        "colab": {
          "base_uri": "https://localhost:8080/"
        },
        "id": "dK91qWnVKLRL",
        "outputId": "1422c363-ce51-4729-ff89-4d3cbefe8ce4"
      },
      "source": [
        "test_pipe(pipe)"
      ],
      "execution_count": 486,
      "outputs": [
        {
          "output_type": "execute_result",
          "data": {
            "text/plain": [
              "{'test_mape': 11.19, 'test_r2': 0.32, 'train_mape': 8.24, 'train_r2': 0.44}"
            ]
          },
          "metadata": {
            "tags": []
          },
          "execution_count": 486
        }
      ]
    }
  ]
}